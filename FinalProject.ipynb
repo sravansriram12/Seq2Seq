{
  "cells": [
    {
      "cell_type": "code",
      "execution_count": null,
      "metadata": {
        "id": "jaZeZIIlQC03"
      },
      "outputs": [],
      "source": [
        "import torch\n",
        "from torch import nn\n",
        "import torch.optim as optim\n",
        "import torch.nn.functional as F\n",
        "import random\n",
        "import numpy as np\n",
        "import math\n",
        "from sklearn.metrics import roc_auc_score, f1_score"
      ]
    },
    {
      "cell_type": "markdown",
      "metadata": {
        "id": "-m_HQr5GeKjR"
      },
      "source": [
        "Read in list of characters from enwik8 file. We encode it in the utf-8 form to represent in the form of byte tokens of which the enwik8 dataset is composed of. This gives us around 205 unique byte tokens. We use a 4th of the dataset for computational efficiency."
      ]
    },
    {
      "cell_type": "code",
      "execution_count": null,
      "metadata": {
        "id": "gXqi-ugJQEfO"
      },
      "outputs": [],
      "source": [
        "with open(\"enwik8\", \"r\", encoding=\"utf-8\") as readerobject:\n",
        "  dataset = readerobject.read()\n",
        "dataset = dataset[0:len(dataset)//4]\n",
        "dataset = dataset.encode('utf-8')\n",
        "dataset = list(dataset)"
      ]
    },
    {
      "cell_type": "markdown",
      "metadata": {
        "id": "7DqvEeXSeROd"
      },
      "source": [
        "Map each unique character to some unique index, we do this to represent our characters in the form of scalar index numbers, which are passed into the embedding layer. Note that we replace characters that appear very infrequently with a common 'other' character to ensure all characters appear in our train, test, and validation sets.\n",
        "Note: We define our \"start\" token which defines the token we feed into our first LSTMCell of the Decoder."
      ]
    },
    {
      "cell_type": "code",
      "execution_count": null,
      "metadata": {
        "id": "JOkPgayYQGtG"
      },
      "outputs": [],
      "source": [
        "other_character = '_'\n",
        "\n",
        "mapping_word_to_frequency = {}\n",
        "for character in dataset:\n",
        "    if character not in mapping_word_to_frequency:\n",
        "        mapping_word_to_frequency[character] = 1\n",
        "    else:\n",
        "        mapping_word_to_frequency[character] += 1\n",
        "\n",
        "for character in range(0, len(dataset)):\n",
        "    if (mapping_word_to_frequency[dataset[character]] / len(dataset)) * 100 < 0.0006:\n",
        "       dataset[character] = other_character"
      ]
    },
    {
      "cell_type": "code",
      "execution_count": null,
      "metadata": {
        "id": "YMcBdU_BR1jh"
      },
      "outputs": [],
      "source": [
        "unique_character_set = set(dataset)\n",
        "\n",
        "mapping_word_to_vector = {}\n",
        "\n",
        "count = 1\n",
        "for character in unique_character_set:\n",
        "    mapping_word_to_vector[character] = count\n",
        "    count += 1\n",
        "\n",
        "mapping_word_to_vector[\"start\"] = len(mapping_word_to_vector)"
      ]
    },
    {
      "cell_type": "markdown",
      "metadata": {
        "id": "VK2b433meyaT"
      },
      "source": [
        "We split our dataset into training, validation, and test splits.\n",
        "The first 60% is used for training, the next 20% for validation, and the last 20% for testing."
      ]
    },
    {
      "cell_type": "code",
      "execution_count": null,
      "metadata": {
        "id": "ovfxNuLMQNRE"
      },
      "outputs": [],
      "source": [
        "train = dataset[0:6*len(dataset)//10]\n",
        "validation = dataset[6*len(dataset)//10:8*len(dataset)//10]\n",
        "test = dataset[8*len(dataset)//10:]"
      ]
    },
    {
      "cell_type": "markdown",
      "metadata": {
        "id": "awh7SC3pfBWJ"
      },
      "source": [
        "We represent our character data in the form of the indeces we mapped our characters to."
      ]
    },
    {
      "cell_type": "code",
      "execution_count": null,
      "metadata": {
        "id": "J8ewLd7-QRkE"
      },
      "outputs": [],
      "source": [
        "train_map = []\n",
        "validation_map = []\n",
        "test_map = []\n",
        "for i in range(len(train)):\n",
        "    train_map.append(mapping_word_to_vector[train[i]])\n",
        "for i in range(len(validation)):\n",
        "    validation_map.append(mapping_word_to_vector[validation[i]])\n",
        "for i in range(len(test)):\n",
        "    test_map.append(mapping_word_to_vector[test[i]])"
      ]
    },
    {
      "cell_type": "markdown",
      "metadata": {
        "id": "comAdcDCfdyb"
      },
      "source": [
        "We split our training and validation sets into X and y samples. The X samples are sequences of 30 characters which we feed into the encoder, whereas the Y samples are the sequences of 10 characters following these 30 characters which we feed into the decoder.\n",
        "\n",
        "Note that we increment our window by 40 characters. We could have picked a smaller window but keeping in mind computational time as well as the encoder being bidrectional which allow it to learn patterns efficiently, we chose 40 for the movement of our window."
      ]
    },
    {
      "cell_type": "code",
      "execution_count": null,
      "metadata": {
        "id": "LBXywadDQV-I"
      },
      "outputs": [],
      "source": [
        "sliding_window_increment = 40\n",
        "sequence_encoder = 30\n",
        "sequence_decoder = 10\n",
        "\n",
        "train_X = {}\n",
        "train_Y = {}\n",
        "\n",
        "val_X = {}\n",
        "val_Y = {}\n",
        "\n",
        "test_X = {}\n",
        "test_Y = {}\n",
        "\n",
        "i = 0\n",
        "k = 0\n",
        "\n",
        "while i + sequence_encoder + sequence_decoder < len(train_map) - (sequence_encoder + sequence_decoder + 1):\n",
        "    train_X[k] = train_map[i:i+sequence_encoder]\n",
        "    train_Y[k] = train_map[i+sequence_encoder:i+sequence_encoder+sequence_decoder]\n",
        "    k += 1\n",
        "    i = i + sliding_window_increment\n",
        "\n",
        "k = 0\n",
        "i = 0\n",
        "while i + sequence_encoder + sequence_decoder < len(validation_map) - (sequence_encoder + sequence_decoder + 1):\n",
        "    val_X[k] = validation_map[i:i+sequence_encoder]\n",
        "    val_Y[k] = validation_map[i+sequence_encoder:i+sequence_encoder+sequence_decoder]\n",
        "    k += 1\n",
        "    i = i + sliding_window_increment\n",
        "\n",
        "k = 0\n",
        "i = 0\n",
        "while i + sequence_encoder + sequence_decoder < len(test_map) - (sequence_encoder + sequence_decoder + 1):\n",
        "    test_X[k] = test_map[i:i+sequence_encoder]\n",
        "    test_Y[k] = test_map[i+sequence_encoder:i+sequence_encoder+sequence_decoder]\n",
        "    k += 1\n",
        "    i = i + sliding_window_increment"
      ]
    },
    {
      "cell_type": "markdown",
      "metadata": {
        "id": "1fry_pJKgLun"
      },
      "source": [
        "We split our x and y samples in our training, validation, and test sets into batches by shuffling them randomly. We define our batch size to be 512."
      ]
    },
    {
      "cell_type": "code",
      "execution_count": null,
      "metadata": {
        "id": "0LGeY1PyQZRm"
      },
      "outputs": [],
      "source": [
        "batch_size = 512\n",
        "\n",
        "indeces = np.random.permutation(len(train_X))\n",
        "train_batches_X = {}\n",
        "train_batches_Y = {}\n",
        "k = 0\n",
        "i = 0\n",
        "while i < len(indeces):\n",
        "    if i + batch_size > len(indeces):\n",
        "        break\n",
        "    if k not in train_batches_X:\n",
        "        train_batches_X[k] = []\n",
        "        train_batches_Y[k] = []\n",
        "    for j in range(i, i + batch_size):\n",
        "        train_batches_X[k].append(train_X[indeces[j]])\n",
        "        train_batches_Y[k].append([mapping_word_to_vector[\"start\"]] + train_Y[indeces[j]])\n",
        "    k += 1\n",
        "    i += batch_size"
      ]
    },
    {
      "cell_type": "code",
      "execution_count": null,
      "metadata": {
        "id": "6gKkaHjvO-PT"
      },
      "outputs": [],
      "source": [
        "val_batches_X = {}\n",
        "val_batches_Y = {}\n",
        "k = 0\n",
        "i = 0\n",
        "while i < len(val_X):\n",
        "    if i + batch_size > len(val_X):\n",
        "        break\n",
        "    if k not in val_batches_X:\n",
        "        val_batches_X[k] = []\n",
        "        val_batches_Y[k] = []\n",
        "    for j in range(i, i + batch_size):\n",
        "        val_batches_X[k].append(val_X[j])\n",
        "        val_batches_Y[k].append([mapping_word_to_vector[\"start\"]] + val_Y[j])\n",
        "    k += 1\n",
        "    i += batch_size"
      ]
    },
    {
      "cell_type": "code",
      "execution_count": null,
      "metadata": {
        "id": "Wj6g_Ox3PA2S"
      },
      "outputs": [],
      "source": [
        "test_batches_X = {}\n",
        "test_batches_Y = {}\n",
        "k = 0\n",
        "i = 0\n",
        "while i < len(test_X):\n",
        "    if i + batch_size > len(test_X):\n",
        "        break\n",
        "    if k not in test_batches_X:\n",
        "        test_batches_X[k] = []\n",
        "        test_batches_Y[k] = []\n",
        "    for j in range(i, i + batch_size):\n",
        "        test_batches_X[k].append(test_X[j])\n",
        "        test_batches_Y[k].append([mapping_word_to_vector[\"start\"]] + test_Y[j])\n",
        "    k += 1\n",
        "    i += batch_size"
      ]
    },
    {
      "cell_type": "markdown",
      "metadata": {
        "id": "uORTa8KrgbS_"
      },
      "source": [
        "We define our encoder and decoder structure. The encoder is bidirectional, allowing us to learn both forward and backward patterns in our sequence of characters. Our decoder is unidirectional, and implements Bahdanau's Attention (Additive attention) to pick which encoder states is the most important in determining the prediction of the next 10 characters. "
      ]
    },
    {
      "cell_type": "code",
      "execution_count": null,
      "metadata": {
        "id": "YxQhN-1WQdBQ"
      },
      "outputs": [],
      "source": [
        "class EncoderModel(nn.Module):\n",
        "    def __init__(self, vocab_length, embedded_dimensions, hidden_dimensions, num_layers=1):\n",
        "        super(EncoderModel, self).__init__()\n",
        "        self.concat_dimensions = hidden_dimensions + hidden_dimensions\n",
        "        self.embedded = nn.Embedding(vocab_length, embedded_dimensions)\n",
        "        self.lstm = nn.LSTM(embedded_dimensions, hidden_dimensions, bidirectional=True)\n",
        "        self.linear = nn.Linear(self.concat_dimensions, hidden_dimensions)\n",
        "        self.linear2 = nn.Linear(self.concat_dimensions, hidden_dimensions)\n",
        "        self.dropout = nn.Dropout(0.23)\n",
        "        self.dropout2 = nn.Dropout(0.23)\n",
        "\n",
        "    def forward(self, sequence):\n",
        "        embedded_rep = self.dropout2(self.embedded(sequence))\n",
        "        predictions, hidden = self.lstm(embedded_rep)\n",
        "        predictions = self.dropout(predictions)\n",
        "        hidden_state = hidden[0]\n",
        "        cell_state = hidden[1]\n",
        "        \n",
        "        forward_hidden, backward_hidden = hidden_state[0:1], hidden_state[1:2]\n",
        "        encoder_hidden = torch.cat((forward_hidden, backward_hidden), dim=2)\n",
        "\n",
        "        forward_cell, backward_cell = cell_state[0:1], cell_state[1:2]\n",
        "        encoder_cell = torch.cat((forward_cell, backward_cell), dim=2)\n",
        "\n",
        "        encoder_hidden = self.linear(encoder_hidden)\n",
        "        encoder_cell = self.linear2(encoder_cell)\n",
        "        return predictions, (encoder_hidden, encoder_cell)\n"
      ]
    },
    {
      "cell_type": "code",
      "execution_count": null,
      "metadata": {
        "id": "6dzzzdW39Nvh"
      },
      "outputs": [],
      "source": [
        "class AttentionDecoderModel(nn.Module):\n",
        "    def __init__(self, vocab_length, embedded_dimensions, hidden_dimensions, num_layers=1):\n",
        "        super(AttentionDecoderModel, self).__init__()\n",
        "        self.hidden_dimensions = hidden_dimensions\n",
        "        self.all_hidden_dimensions = hidden_dimensions + hidden_dimensions + hidden_dimensions\n",
        "        self.concat_hidden_embedded = hidden_dimensions + hidden_dimensions + embedded_dimensions\n",
        "        self.embedded = nn.Embedding(vocab_length, embedded_dimensions)\n",
        "        self.lstm = nn.LSTM(self.concat_hidden_embedded, hidden_dimensions)\n",
        "        self.linear = nn.Linear(self.all_hidden_dimensions, 1)\n",
        "        self.non_linear_activation_function = nn.Tanh()\n",
        "        self.fully_connected = nn.Linear(hidden_dimensions, vocab_length)\n",
        "        self.softmax = nn.Softmax(dim=0)\n",
        "        self.dropout = nn.Dropout(0.23)\n",
        "        self.dropout2 = nn.Dropout(0.23)\n",
        "\n",
        "\n",
        "    def forward(self, decoder_input, decoder_hidden_previous, encoder_hidden):\n",
        "        transformed_characters = self.dropout2(self.embedded(decoder_input))\n",
        "        decoder_hidden, decoder_cell = decoder_hidden_previous\n",
        "\n",
        "        decoder_hiddens = torch.zeros(sequence_encoder, batch_size, self.hidden_dimensions).cuda()\n",
        "\n",
        "        for i in range(sequence_encoder):\n",
        "          decoder_hiddens[i] = decoder_hidden\n",
        "\n",
        "        cat_decoder_encoder = torch.cat((decoder_hiddens, encoder_hidden), dim=2)\n",
        "        alignment_scores = self.linear(cat_decoder_encoder)\n",
        "        alignment_scores = self.non_linear_activation_function(alignment_scores)\n",
        "        attention_weights = self.softmax(alignment_scores)\n",
        "        \n",
        "        attention_weights = torch.transpose(attention_weights, 0, 1)\n",
        "        attention_weights = torch.transpose(attention_weights, 1, 2)\n",
        "        encoder_hidden = torch.transpose(encoder_hidden, 0, 1)\n",
        "\n",
        "        weighted_sum = torch.bmm(attention_weights, encoder_hidden)\n",
        "        weighted_sum = torch.transpose(weighted_sum, 0, 1)\n",
        "\n",
        "        embedded_rep = torch.cat((weighted_sum, transformed_characters), dim=2)\n",
        "\n",
        "\n",
        "        predictions, (next_hidden, next_cell) = self.lstm(embedded_rep, decoder_hidden_previous)\n",
        "        predictions = self.fully_connected(predictions)\n",
        "        predictions = self.dropout(predictions)\n",
        "        predictions = predictions.squeeze(0)\n",
        "\n",
        "        return predictions, (next_hidden, next_cell)"
      ]
    },
    {
      "cell_type": "code",
      "execution_count": null,
      "metadata": {
        "id": "L73flz6i9TaO"
      },
      "outputs": [],
      "source": [
        "class Seq2SeqModel(nn.Module):\n",
        "    def __init__(self, model_encoder, model_decoder):\n",
        "        super(Seq2SeqModel, self).__init__()\n",
        "        self.model_encoder = model_encoder\n",
        "        self.model_decoder = model_decoder\n",
        "\n",
        "    def forward(self, encoder_inputs, decoder_inputs, tfr):\n",
        "        encoder_outputs, hidden = self.model_encoder(encoder_inputs)\n",
        "        \n",
        "        decoder_input = decoder_inputs[0:1]\n",
        "        all_predictions = torch.zeros(sequence_decoder, batch_size, len(mapping_word_to_vector)).cuda()\n",
        " \n",
        "        for i in range(0, sequence_decoder):\n",
        "            predicted, hidden = self.model_decoder(decoder_input, hidden, encoder_outputs)\n",
        "            all_predictions[i] = predicted\n",
        "          \n",
        "            if random.random() < tfr:\n",
        "                decoder_input = decoder_inputs[i+1:i+2]\n",
        "            else:\n",
        "                decoder_input = predicted.argmax(1).unsqueeze(0)\n",
        "              \n",
        "\n",
        "        return all_predictions"
      ]
    },
    {
      "cell_type": "markdown",
      "metadata": {
        "id": "DruErBGrhGF4"
      },
      "source": [
        "Defining our hyperparameters and models - \n",
        "The embedding and hidden dimensions are picked in a way that would allow the model to figure out complex patterns in the data, but is applied with dropout to prevent overfitting by allowing regularization for better generalization.\n",
        "\n",
        "\n",
        "Cross Entropy Loss combines NLLLoss with Softmax."
      ]
    },
    {
      "cell_type": "code",
      "execution_count": null,
      "metadata": {
        "id": "H_aw0ZBLQhwk"
      },
      "outputs": [],
      "source": [
        "embedding_dimensions = 250\n",
        "hidden_dimensions = 400\n",
        "learning_rate = 0.0005\n",
        "model_encoder = EncoderModel(len(mapping_word_to_vector), embedding_dimensions, hidden_dimensions)\n",
        "model_decoder = AttentionDecoderModel(len(mapping_word_to_vector), embedding_dimensions, hidden_dimensions)\n",
        "model_encoder = model_encoder.cuda()\n",
        "model_decoder = model_decoder.cuda()\n",
        "model = Seq2SeqModel(model_encoder, model_decoder)\n",
        "model = model.cuda()\n",
        "\n",
        "criterion = nn.CrossEntropyLoss()\n",
        "optimizer = torch.optim.Adam(model.parameters(), lr=learning_rate)"
      ]
    },
    {
      "cell_type": "markdown",
      "metadata": {
        "id": "8Edp5_Jeh5ns"
      },
      "source": [
        "We can define the number of epochs, and teacher forcing ratio to train and validate our model. We choose the best model (lowest validation loss) and evaluate it on our test set.\n",
        "\n",
        "We use a teacher forcing ratio of 0.5. This combines fast convergence with generalization."
      ]
    },
    {
      "cell_type": "code",
      "execution_count": null,
      "metadata": {
        "id": "1CGheIfwQkyX"
      },
      "outputs": [],
      "source": [
        "def train(num_epochs, model, teacher_forcing_ratio, train_batches_X, train_batches_Y, val_batches_X, val_batches_Y, criterion, optimizer, batch_size):\n",
        "  tfr = teacher_forcing_ratio\n",
        "  num_epochs = num_epochs\n",
        "  train_losses = []\n",
        "  val_losses = []\n",
        "  train_perplexities = []\n",
        "  val_perplexities = []\n",
        "  train_accuracies = []\n",
        "  val_accuracies = []\n",
        "  train_auc = []\n",
        "  val_auc = []\n",
        "  train_f1 = []\n",
        "  val_f1 = []\n",
        "\n",
        "  min_val_loss = 100\n",
        "  \n",
        "\n",
        "  for epoch in range(num_epochs):\n",
        "      epoch_loss = 0\n",
        "      val_loss = 0\n",
        "      correct_train = 0\n",
        "      correct_val = 0\n",
        "      N_train = 0\n",
        "      N_val = 0\n",
        "\n",
        "      f1_train = 0\n",
        "      roc_train = 0\n",
        "      area_under_curve = torch.zeros(len(train_batches_X), sequence_decoder * batch_size, len(mapping_word_to_vector) - 1)\n",
        "      truths = torch.zeros(len(train_batches_X), sequence_decoder * batch_size)\n",
        "\n",
        "      area_under_curve_val = torch.zeros(len(val_batches_X), sequence_decoder * batch_size, len(mapping_word_to_vector) - 1)\n",
        "      truths_val = torch.zeros(len(val_batches_X), sequence_decoder * batch_size)\n",
        "\n",
        "      model.train()\n",
        "      for index in range(len(train_batches_X)):\n",
        "         \n",
        "          optimizer.zero_grad()\n",
        "          encoder_inputs = train_batches_X[index]\n",
        "\n",
        "          # (batch_size, seq length)\n",
        "\n",
        "          encoder_inputs = torch.LongTensor(encoder_inputs).cuda()\n",
        "          encoder_inputs = torch.transpose(encoder_inputs, 0, 1)\n",
        "\n",
        "          # (seq length, batch_size)\n",
        "\n",
        "          decoder_inputs = train_batches_Y[index]\n",
        "          decoder_inputs = torch.LongTensor(decoder_inputs).cuda()\n",
        "          decoder_inputs = torch.transpose(decoder_inputs, 0, 1)\n",
        "\n",
        "          all_predictions = model(encoder_inputs, decoder_inputs, tfr)\n",
        "          truth = decoder_inputs[1:]\n",
        "\n",
        "          # truth - (seq length, batch_size)\n",
        "          # all_predictions - (seq length, batch_size, predicted index)\n",
        "\n",
        "          all_predictions = all_predictions.reshape(all_predictions.size(0) * all_predictions.size(1), all_predictions.size(2))\n",
        "          # all_predictions - (seq length * batch_size, predicted index)\n",
        "          truth = truth.reshape(truth.size(0) * truth.size(1))\n",
        "          # truth - (seq length * batch_size)\n",
        "          loss = criterion(all_predictions, truth)\n",
        "          loss.backward()\n",
        "          \n",
        "          area = all_predictions\n",
        "          area = area[:, :area.size(1) - 1]\n",
        "          area = F.softmax(area, dim=1)\n",
        "      \n",
        "          area_under_curve[index] = area.cpu()\n",
        "          truths[index] = truth.cpu()\n",
        "  \n",
        "          correct_train += (all_predictions.argmax(1) == truth).sum().item()\n",
        "          N_train += batch_size * sequence_decoder\n",
        "        \n",
        "          optimizer.step()\n",
        "          epoch_loss += loss.item()\n",
        "\n",
        "        \n",
        "      for index in range(len(val_batches_X)):\n",
        "          model.eval()\n",
        "          with torch.no_grad():\n",
        "              encoder_inputs = val_batches_X[index]\n",
        "\n",
        "              # encoder_input - [batch_size ,seq length]\n",
        "\n",
        "              encoder_inputs = torch.LongTensor(encoder_inputs).cuda()\n",
        "              encoder_inputs = torch.transpose(encoder_inputs, 0, 1)\n",
        "\n",
        "              # encoder_input - [seq_length, batch_size]\n",
        "\n",
        "              decoder_inputs = val_batches_Y[index]\n",
        "              decoder_inputs = torch.LongTensor(decoder_inputs).cuda()\n",
        "              decoder_inputs = torch.transpose(decoder_inputs, 0, 1)\n",
        "\n",
        "              N_val += batch_size * sequence_decoder\n",
        "\n",
        "              all_predictions = model(encoder_inputs, decoder_inputs, 0)\n",
        "              truth = decoder_inputs[1:]\n",
        "              \n",
        "              all_predictions = all_predictions.reshape(all_predictions.size(0) * all_predictions.size(1), all_predictions.size(2))\n",
        "              truth = truth.reshape(truth.size(0) * truth.size(1))\n",
        "\n",
        "              loss = criterion(all_predictions, truth)\n",
        "\n",
        "              correct_val += (all_predictions.argmax(1) == truth).sum().item()\n",
        "\n",
        "              area = all_predictions\n",
        "              area = area[:, :area.size(1) - 1]\n",
        "              area = F.softmax(area, dim=1)\n",
        "      \n",
        "              area_under_curve_val[index] = area.cpu()\n",
        "              truths_val[index] = truth.cpu()\n",
        "        \n",
        "              val_loss += loss.item()\n",
        " \n",
        "      area_under_curve =  area_under_curve.reshape(-1, area_under_curve.size(2)).detach().numpy()\n",
        "      truths = truths.reshape(-1)\n",
        "      auc_train = roc_auc_score(truths, area_under_curve, multi_class = 'ovr', average='weighted')\n",
        "      f1_train = f1_score(truths, area_under_curve.argmax(1), average='weighted')\n",
        "\n",
        "\n",
        "      area_under_curve_val =  area_under_curve_val.reshape(-1, area_under_curve_val.size(2)).detach().numpy()\n",
        "      truths_val = truths_val.reshape(-1)\n",
        "      auc_val = roc_auc_score(truths_val, area_under_curve_val, multi_class = 'ovr', average='weighted')\n",
        "      f1_val = f1_score(truths_val, area_under_curve_val.argmax(1), average='weighted')\n",
        "  \n",
        "      train_auc.append(auc_train)\n",
        "      train_f1.append(f1_train)\n",
        "      \n",
        "      train_accuracies.append(correct_train / N_train)\n",
        "      train_perplexities.append(math.exp(epoch_loss / len(train_batches_X)))\n",
        "      train_losses.append(epoch_loss / len(train_batches_X))\n",
        "      \n",
        "      \n",
        "      if val_loss / len(val_batches_X) < min_val_loss:\n",
        "          state = {'state_dict': model.state_dict()}\n",
        "          torch.save(state, 'best_model.tar')\n",
        "          min_val_loss = val_loss / len(val_batches_X)\n",
        "      val_accuracies.append(correct_val / N_val)\n",
        "      val_perplexities.append(math.exp(val_loss / len(val_batches_X)))\n",
        "      val_losses.append(val_loss / len(val_batches_X))\n",
        "      val_auc.append(auc_val)\n",
        "      val_f1.append(f1_val)\n",
        "      print('Epoch {}, train_loss: {:.4f}, train_perplexity: {:.3f}, train_accuracy: {:.3f}, train_auc_roc: {:.3f}, train_f1: {:.3f} |  val_loss: {:.4f}, val_perplexity: {:.3f}, val_accuracy: {:.3f}, val_auc_roc: {:.3f}, val_f1: {:.3f}'.format(epoch + 1, epoch_loss / len(train_batches_X), math.exp(epoch_loss / len(train_batches_X)), correct_train / N_train, auc_train, f1_train, val_loss / len(val_batches_X), math.exp(val_loss / len(val_batches_X)), correct_val / N_val, auc_val, f1_val))\n",
        "      \n",
        "  return train_losses, val_losses, train_perplexities, val_perplexities, train_accuracies, val_accuracies, train_auc, val_auc, train_f1, val_f1\n",
        "  "
      ]
    },
    {
      "cell_type": "code",
      "execution_count": null,
      "metadata": {
        "id": "K-AQjXReaK2F",
        "colab": {
          "base_uri": "https://localhost:8080/"
        },
        "outputId": "0793eac6-5dc5-4b44-c144-e4f970e10442"
      },
      "outputs": [
        {
          "output_type": "stream",
          "name": "stdout",
          "text": [
            "Epoch 1, train_loss: 3.4403, train_perplexity: 31.195, train_accuracy: 0.209, train_auc_roc: 0.553, train_f1: 0.174 |  val_loss: 3.1342, val_perplexity: 22.971, val_accuracy: 0.202, val_auc_roc: 0.556, val_f1: 0.162\n",
            "Epoch 2, train_loss: 3.1913, train_perplexity: 24.319, train_accuracy: 0.260, train_auc_roc: 0.559, train_f1: 0.235 |  val_loss: 3.1099, val_perplexity: 22.419, val_accuracy: 0.203, val_auc_roc: 0.552, val_f1: 0.187\n",
            "Epoch 3, train_loss: 3.1135, train_perplexity: 22.499, train_accuracy: 0.278, train_auc_roc: 0.557, train_f1: 0.257 |  val_loss: 3.0565, val_perplexity: 21.253, val_accuracy: 0.216, val_auc_roc: 0.550, val_f1: 0.202\n",
            "Epoch 4, train_loss: 3.0681, train_perplexity: 21.501, train_accuracy: 0.288, train_auc_roc: 0.556, train_f1: 0.269 |  val_loss: 3.0568, val_perplexity: 21.258, val_accuracy: 0.217, val_auc_roc: 0.550, val_f1: 0.208\n",
            "Epoch 5, train_loss: 3.0321, train_perplexity: 20.741, train_accuracy: 0.297, train_auc_roc: 0.556, train_f1: 0.279 |  val_loss: 2.9739, val_perplexity: 19.567, val_accuracy: 0.231, val_auc_roc: 0.550, val_f1: 0.218\n",
            "Epoch 6, train_loss: 2.9951, train_perplexity: 19.988, train_accuracy: 0.306, train_auc_roc: 0.556, train_f1: 0.289 |  val_loss: 2.9521, val_perplexity: 19.146, val_accuracy: 0.239, val_auc_roc: 0.550, val_f1: 0.223\n",
            "Epoch 7, train_loss: 2.9759, train_perplexity: 19.607, train_accuracy: 0.310, train_auc_roc: 0.556, train_f1: 0.295 |  val_loss: 2.9481, val_perplexity: 19.070, val_accuracy: 0.238, val_auc_roc: 0.550, val_f1: 0.225\n",
            "Epoch 8, train_loss: 2.9529, train_perplexity: 19.161, train_accuracy: 0.315, train_auc_roc: 0.557, train_f1: 0.300 |  val_loss: 2.9600, val_perplexity: 19.298, val_accuracy: 0.241, val_auc_roc: 0.551, val_f1: 0.228\n",
            "Epoch 9, train_loss: 2.9388, train_perplexity: 18.893, train_accuracy: 0.319, train_auc_roc: 0.557, train_f1: 0.304 |  val_loss: 2.9508, val_perplexity: 19.121, val_accuracy: 0.241, val_auc_roc: 0.551, val_f1: 0.230\n",
            "Epoch 10, train_loss: 2.9038, train_perplexity: 18.243, train_accuracy: 0.327, train_auc_roc: 0.557, train_f1: 0.314 |  val_loss: 2.9381, val_perplexity: 18.880, val_accuracy: 0.245, val_auc_roc: 0.551, val_f1: 0.231\n",
            "Epoch 11, train_loss: 2.9061, train_perplexity: 18.284, train_accuracy: 0.327, train_auc_roc: 0.557, train_f1: 0.313 |  val_loss: 2.9392, val_perplexity: 18.901, val_accuracy: 0.247, val_auc_roc: 0.550, val_f1: 0.233\n",
            "Epoch 12, train_loss: 2.8912, train_perplexity: 18.015, train_accuracy: 0.330, train_auc_roc: 0.556, train_f1: 0.317 |  val_loss: 2.9903, val_perplexity: 19.892, val_accuracy: 0.242, val_auc_roc: 0.549, val_f1: 0.234\n",
            "Epoch 13, train_loss: 2.8820, train_perplexity: 17.851, train_accuracy: 0.332, train_auc_roc: 0.556, train_f1: 0.319 |  val_loss: 2.9276, val_perplexity: 18.683, val_accuracy: 0.249, val_auc_roc: 0.550, val_f1: 0.236\n",
            "Epoch 14, train_loss: 2.8631, train_perplexity: 17.515, train_accuracy: 0.337, train_auc_roc: 0.556, train_f1: 0.324 |  val_loss: 2.9294, val_perplexity: 18.716, val_accuracy: 0.249, val_auc_roc: 0.549, val_f1: 0.237\n",
            "Epoch 15, train_loss: 2.8613, train_perplexity: 17.484, train_accuracy: 0.337, train_auc_roc: 0.556, train_f1: 0.324 |  val_loss: 2.9147, val_perplexity: 18.443, val_accuracy: 0.253, val_auc_roc: 0.550, val_f1: 0.238\n",
            "Epoch 16, train_loss: 2.8434, train_perplexity: 17.175, train_accuracy: 0.341, train_auc_roc: 0.556, train_f1: 0.329 |  val_loss: 2.9243, val_perplexity: 18.621, val_accuracy: 0.249, val_auc_roc: 0.550, val_f1: 0.237\n",
            "Epoch 17, train_loss: 2.8278, train_perplexity: 16.909, train_accuracy: 0.345, train_auc_roc: 0.557, train_f1: 0.333 |  val_loss: 2.9869, val_perplexity: 19.824, val_accuracy: 0.246, val_auc_roc: 0.549, val_f1: 0.237\n",
            "Epoch 18, train_loss: 2.8306, train_perplexity: 16.956, train_accuracy: 0.344, train_auc_roc: 0.556, train_f1: 0.333 |  val_loss: 2.9516, val_perplexity: 19.137, val_accuracy: 0.249, val_auc_roc: 0.550, val_f1: 0.239\n",
            "Epoch 19, train_loss: 2.8102, train_perplexity: 16.613, train_accuracy: 0.349, train_auc_roc: 0.556, train_f1: 0.338 |  val_loss: 2.9705, val_perplexity: 19.501, val_accuracy: 0.248, val_auc_roc: 0.548, val_f1: 0.238\n",
            "Epoch 20, train_loss: 2.8033, train_perplexity: 16.499, train_accuracy: 0.351, train_auc_roc: 0.556, train_f1: 0.340 |  val_loss: 2.9801, val_perplexity: 19.689, val_accuracy: 0.248, val_auc_roc: 0.549, val_f1: 0.238\n",
            "Epoch 21, train_loss: 2.7934, train_perplexity: 16.336, train_accuracy: 0.353, train_auc_roc: 0.556, train_f1: 0.342 |  val_loss: 2.9359, val_perplexity: 18.839, val_accuracy: 0.251, val_auc_roc: 0.548, val_f1: 0.240\n",
            "Epoch 22, train_loss: 2.7872, train_perplexity: 16.236, train_accuracy: 0.354, train_auc_roc: 0.556, train_f1: 0.344 |  val_loss: 2.9900, val_perplexity: 19.885, val_accuracy: 0.247, val_auc_roc: 0.548, val_f1: 0.239\n",
            "Epoch 23, train_loss: 2.7905, train_perplexity: 16.289, train_accuracy: 0.353, train_auc_roc: 0.555, train_f1: 0.343 |  val_loss: 2.9335, val_perplexity: 18.793, val_accuracy: 0.251, val_auc_roc: 0.548, val_f1: 0.240\n",
            "Epoch 24, train_loss: 2.7810, train_perplexity: 16.135, train_accuracy: 0.356, train_auc_roc: 0.555, train_f1: 0.345 |  val_loss: 2.9555, val_perplexity: 19.211, val_accuracy: 0.250, val_auc_roc: 0.548, val_f1: 0.240\n",
            "Epoch 25, train_loss: 2.7593, train_perplexity: 15.790, train_accuracy: 0.361, train_auc_roc: 0.555, train_f1: 0.351 |  val_loss: 2.9537, val_perplexity: 19.177, val_accuracy: 0.252, val_auc_roc: 0.547, val_f1: 0.240\n",
            "Epoch 26, train_loss: 2.7610, train_perplexity: 15.816, train_accuracy: 0.361, train_auc_roc: 0.555, train_f1: 0.351 |  val_loss: 2.9392, val_perplexity: 18.900, val_accuracy: 0.251, val_auc_roc: 0.547, val_f1: 0.240\n",
            "Epoch 27, train_loss: 2.7592, train_perplexity: 15.788, train_accuracy: 0.360, train_auc_roc: 0.555, train_f1: 0.350 |  val_loss: 2.9358, val_perplexity: 18.837, val_accuracy: 0.251, val_auc_roc: 0.546, val_f1: 0.241\n",
            "Epoch 28, train_loss: 2.7459, train_perplexity: 15.579, train_accuracy: 0.364, train_auc_roc: 0.555, train_f1: 0.354 |  val_loss: 2.9648, val_perplexity: 19.390, val_accuracy: 0.249, val_auc_roc: 0.546, val_f1: 0.241\n",
            "Epoch 29, train_loss: 2.7492, train_perplexity: 15.630, train_accuracy: 0.363, train_auc_roc: 0.554, train_f1: 0.353 |  val_loss: 2.9758, val_perplexity: 19.605, val_accuracy: 0.249, val_auc_roc: 0.546, val_f1: 0.240\n",
            "Epoch 30, train_loss: 2.7329, train_perplexity: 15.377, train_accuracy: 0.367, train_auc_roc: 0.554, train_f1: 0.358 |  val_loss: 2.9946, val_perplexity: 19.978, val_accuracy: 0.249, val_auc_roc: 0.546, val_f1: 0.241\n"
          ]
        }
      ],
      "source": [
        "teacher_forcing_ratio = 0.5\n",
        "num_epochs = 30\n",
        "train_losses, val_losses, train_perplexities, val_perplexities, train_accuracies, val_accuracies, train_auc, val_auc, train_f1, val_f1 = train(num_epochs, model, teacher_forcing_ratio, train_batches_X, train_batches_Y, val_batches_X, val_batches_Y, criterion, optimizer, batch_size)"
      ]
    },
    {
      "cell_type": "markdown",
      "metadata": {
        "id": "wwvrNNSqib8_"
      },
      "source": [
        "We can plot our train and validation loss, perplexity, accuracy, AUC_ROC, and F1-Scores as a function of the number of epochs."
      ]
    },
    {
      "cell_type": "code",
      "execution_count": null,
      "metadata": {
        "id": "i14mtPZDQoXP",
        "colab": {
          "base_uri": "https://localhost:8080/",
          "height": 312
        },
        "outputId": "53981f75-f732-4f42-fd90-42a9ec081d41"
      },
      "outputs": [
        {
          "output_type": "execute_result",
          "data": {
            "text/plain": [
              "Text(0.5, 1.0, 'Loss vs. No. of Epochs')"
            ]
          },
          "metadata": {},
          "execution_count": 18
        },
        {
          "output_type": "display_data",
          "data": {
            "image/png": "[encoded data removed]",
            "text/plain": [
              "<Figure size 432x288 with 1 Axes>"
            ]
          },
          "metadata": {
            "needs_background": "light"
          }
        }
      ],
      "source": [
        "import matplotlib.pyplot as plt\n",
        "plt.plot(train_losses, \"-x\")\n",
        "plt.plot(val_losses, \"-o\")\n",
        "plt.xlabel(\"Epoch\")\n",
        "plt.ylabel(\"Loss\")\n",
        "plt.legend([\"Training\", \"Validation\"])\n",
        "plt.title(\"Loss vs. No. of Epochs\")"
      ]
    },
    {
      "cell_type": "code",
      "execution_count": null,
      "metadata": {
        "id": "Gf8p5b9rzaw7",
        "colab": {
          "base_uri": "https://localhost:8080/",
          "height": 312
        },
        "outputId": "3745352a-e4e4-4be8-d89f-22042676d268"
      },
      "outputs": [
        {
          "output_type": "execute_result",
          "data": {
            "text/plain": [
              "Text(0.5, 1.0, 'Perplexity vs. No. of Epochs')"
            ]
          },
          "metadata": {},
          "execution_count": 19
        },
        {
          "output_type": "display_data",
          "data": {
            "image/png": "[encoded data removed]",
            "text/plain": [
              "<Figure size 432x288 with 1 Axes>"
            ]
          },
          "metadata": {
            "needs_background": "light"
          }
        }
      ],
      "source": [
        "plt.plot(train_perplexities, \"-x\")\n",
        "plt.plot(val_perplexities, \"-o\")\n",
        "plt.xlabel(\"Epoch\")\n",
        "plt.ylabel(\"Perplexity\")\n",
        "plt.legend([\"Training\", \"Validation\"])\n",
        "plt.title(\"Perplexity vs. No. of Epochs\")"
      ]
    },
    {
      "cell_type": "code",
      "execution_count": null,
      "metadata": {
        "id": "Dk73jy8BXzgd",
        "colab": {
          "base_uri": "https://localhost:8080/",
          "height": 312
        },
        "outputId": "ec10d8c9-644f-48ad-b069-0d0bfeb23c85"
      },
      "outputs": [
        {
          "output_type": "execute_result",
          "data": {
            "text/plain": [
              "Text(0.5, 1.0, 'Accuracy vs. No. of Epochs')"
            ]
          },
          "metadata": {},
          "execution_count": 20
        },
        {
          "output_type": "display_data",
          "data": {
            "image/png": "[encoded data removed]",
            "text/plain": [
              "<Figure size 432x288 with 1 Axes>"
            ]
          },
          "metadata": {
            "needs_background": "light"
          }
        }
      ],
      "source": [
        "plt.plot(train_accuracies, \"-x\")\n",
        "plt.plot(val_accuracies, \"-o\")\n",
        "plt.xlabel(\"Epoch\")\n",
        "plt.ylabel(\"Accuracy\")\n",
        "plt.legend([\"Training\", \"Validation\"])\n",
        "plt.title(\"Accuracy vs. No. of Epochs\")"
      ]
    },
    {
      "cell_type": "code",
      "execution_count": null,
      "metadata": {
        "id": "SJJptak2aw2I",
        "colab": {
          "base_uri": "https://localhost:8080/",
          "height": 312
        },
        "outputId": "1480bb12-0681-4f84-9063-426fe81dea34"
      },
      "outputs": [
        {
          "output_type": "execute_result",
          "data": {
            "text/plain": [
              "Text(0.5, 1.0, 'AUC-ROC vs. No. of Epochs')"
            ]
          },
          "metadata": {},
          "execution_count": 21
        },
        {
          "output_type": "display_data",
          "data": {
            "image/png": "[encoded data removed]",
            "text/plain": [
              "<Figure size 432x288 with 1 Axes>"
            ]
          },
          "metadata": {
            "needs_background": "light"
          }
        }
      ],
      "source": [
        "plt.plot(train_auc, \"-x\")\n",
        "plt.plot(val_auc, \"-o\")\n",
        "plt.xlabel(\"Epoch\")\n",
        "plt.ylabel(\"AUC-ROC\")\n",
        "plt.legend([\"Training\", \"Validation\"])\n",
        "plt.title(\"AUC-ROC vs. No. of Epochs\")"
      ]
    },
    {
      "cell_type": "code",
      "execution_count": null,
      "metadata": {
        "id": "vj2BdGMoa38y",
        "colab": {
          "base_uri": "https://localhost:8080/",
          "height": 312
        },
        "outputId": "2dc96141-660b-4bf8-8869-e2324e00236a"
      },
      "outputs": [
        {
          "output_type": "execute_result",
          "data": {
            "text/plain": [
              "Text(0.5, 1.0, 'F1 Score vs. No. of Epochs')"
            ]
          },
          "metadata": {},
          "execution_count": 22
        },
        {
          "output_type": "display_data",
          "data": {
            "image/png": "[encoded data removed]",
            "text/plain": [
              "<Figure size 432x288 with 1 Axes>"
            ]
          },
          "metadata": {
            "needs_background": "light"
          }
        }
      ],
      "source": [
        "plt.plot(train_f1, \"-x\")\n",
        "plt.plot(val_f1, \"-o\")\n",
        "plt.xlabel(\"Epoch\")\n",
        "plt.ylabel(\"F1 Score\")\n",
        "plt.legend([\"Training\", \"Validation\"])\n",
        "plt.title(\"F1 Score vs. No. of Epochs\")"
      ]
    },
    {
      "cell_type": "code",
      "execution_count": null,
      "metadata": {
        "id": "7xnDmFVbNA9L",
        "colab": {
          "base_uri": "https://localhost:8080/"
        },
        "outputId": "cf19c3c8-08a7-495b-9129-ff5c66257139"
      },
      "outputs": [
        {
          "output_type": "execute_result",
          "data": {
            "text/plain": [
              "Seq2SeqModel(\n",
              "  (model_encoder): EncoderModel(\n",
              "    (embedded): Embedding(191, 250)\n",
              "    (lstm): LSTM(250, 400, bidirectional=True)\n",
              "    (linear): Linear(in_features=800, out_features=400, bias=True)\n",
              "    (linear2): Linear(in_features=800, out_features=400, bias=True)\n",
              "    (dropout): Dropout(p=0.23, inplace=False)\n",
              "    (dropout2): Dropout(p=0.23, inplace=False)\n",
              "  )\n",
              "  (model_decoder): AttentionDecoderModel(\n",
              "    (embedded): Embedding(191, 250)\n",
              "    (lstm): LSTM(1050, 400)\n",
              "    (linear): Linear(in_features=1200, out_features=1, bias=True)\n",
              "    (non_linear_activation_function): Tanh()\n",
              "    (fully_connected): Linear(in_features=400, out_features=191, bias=True)\n",
              "    (softmax): Softmax(dim=0)\n",
              "    (dropout): Dropout(p=0.23, inplace=False)\n",
              "    (dropout2): Dropout(p=0.23, inplace=False)\n",
              "  )\n",
              ")"
            ]
          },
          "metadata": {},
          "execution_count": 23
        }
      ],
      "source": [
        "model_encoder = EncoderModel(len(mapping_word_to_vector), embedding_dimensions, hidden_dimensions)\n",
        "model_decoder = AttentionDecoderModel(len(mapping_word_to_vector), embedding_dimensions, hidden_dimensions)\n",
        "model_encoder = model_encoder.cuda()\n",
        "model_decoder = model_decoder.cuda()\n",
        "model = Seq2SeqModel(model_encoder, model_decoder)\n",
        "\n",
        "state = torch.load('best_model.tar')\n",
        "model.load_state_dict(state['state_dict'])\n",
        "model.cuda()"
      ]
    },
    {
      "cell_type": "markdown",
      "source": [
        "We can evaluate the best model on the test set."
      ],
      "metadata": {
        "id": "P8pxvaf6V50D"
      }
    },
    {
      "cell_type": "code",
      "execution_count": null,
      "metadata": {
        "id": "WP91UscgXoMm"
      },
      "outputs": [],
      "source": [
        "def test(model, test_batches_X, test_batches_Y, criterion, batch_size):\n",
        "    N_test = 0\n",
        "    test_loss = 0\n",
        "    correct_test = 0\n",
        "    area_under_curve = torch.zeros(len(test_batches_X), sequence_decoder * batch_size, len(mapping_word_to_vector) - 1)\n",
        "    truths = torch.zeros(len(test_batches_X), sequence_decoder * batch_size)\n",
        "    for index in range(len(test_batches_X)):\n",
        "          model.eval()\n",
        "          with torch.no_grad():\n",
        "              encoder_inputs = test_batches_X[index]\n",
        "\n",
        "              # encoder_input - [batch_size ,seq length]\n",
        "\n",
        "              encoder_inputs = torch.LongTensor(encoder_inputs).cuda()\n",
        "              encoder_inputs = torch.transpose(encoder_inputs, 0, 1)\n",
        "\n",
        "              # encoder_input - [seq_length, batch_size]\n",
        "\n",
        "              decoder_inputs = test_batches_Y[index]\n",
        "              decoder_inputs = torch.LongTensor(decoder_inputs).cuda()\n",
        "              decoder_inputs = torch.transpose(decoder_inputs, 0, 1)\n",
        "\n",
        "              N_test += batch_size * sequence_decoder\n",
        "\n",
        "              all_predictions = model(encoder_inputs, decoder_inputs, 0)\n",
        "\n",
        "              truth = decoder_inputs[1:]\n",
        "              \n",
        "              all_predictions = all_predictions.reshape(all_predictions.size(0) * all_predictions.size(1), all_predictions.size(2))\n",
        "              truth = truth.reshape(truth.size(0) * truth.size(1))\n",
        "\n",
        "              loss = criterion(all_predictions, truth)\n",
        "\n",
        "              correct_test += (all_predictions.argmax(1) == truth).sum().item()\n",
        "\n",
        "              area = all_predictions\n",
        "              area = area[:, :area.size(1) - 1]\n",
        "              area = F.softmax(area, dim=1)\n",
        "      \n",
        "              area_under_curve[index] = area.cpu()\n",
        "              truths[index] = truth.cpu()\n",
        "        \n",
        "              test_loss += loss.item()\n",
        "      \n",
        "    test_perplexity = math.exp(test_loss / len(test_batches_X))\n",
        "    test_accuracy = correct_test / N_test\n",
        "\n",
        "    area_under_curve =  area_under_curve.reshape(-1, area_under_curve.size(2)).detach().numpy()\n",
        "    truths = truths.reshape(-1)\n",
        "    auc_test = roc_auc_score(truths, area_under_curve, multi_class = 'ovr', average='weighted')\n",
        "    f1_test = f1_score(truths, area_under_curve.argmax(1), average='weighted')\n",
        "\n",
        "    print('Test Accuracy: {:.3f}, Test Perplexity: {:.3f}, Test AUC-ROC: {:.3f}, Test F1-Score: {:.3f}'.format(test_accuracy, test_perplexity, auc_test, f1_test))\n",
        "\n"
      ]
    },
    {
      "cell_type": "code",
      "execution_count": null,
      "metadata": {
        "id": "oFSMW0KsYx-x",
        "colab": {
          "base_uri": "https://localhost:8080/"
        },
        "outputId": "c9be69ab-3a61-46e8-cdba-4ce469d9c8eb"
      },
      "outputs": [
        {
          "output_type": "stream",
          "name": "stdout",
          "text": [
            "Test Accuracy: 0.239, Test Perplexity: 19.630, Test AUC-ROC: 0.552, Test F1-Score: 0.224\n"
          ]
        }
      ],
      "source": [
        "test(model, test_batches_X, test_batches_Y, criterion, batch_size)"
      ]
    }
  ],
  "metadata": {
    "colab": {
      "background_execution": "on",
      "collapsed_sections": [],
      "machine_shape": "hm",
      "name": "FinalProject.ipynb",
      "provenance": []
    },
    "kernelspec": {
      "display_name": "Python 3",
      "name": "python3"
    },
    "language_info": {
      "name": "python"
    },
    "accelerator": "GPU"
  },
  "nbformat": 4,
  "nbformat_minor": 0
}